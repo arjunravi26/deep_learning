{
 "cells": [
  {
   "cell_type": "markdown",
   "metadata": {},
   "source": [
    "CNN Model to detect horse and human"
   ]
  },
  {
   "cell_type": "markdown",
   "metadata": {},
   "source": [
    "* tf.data.dataset array instead of ndarray\n",
    "* Rescaling\n",
    "* cache,shuffle,prefetch\n",
    "* plot history\n",
    "* upload file"
   ]
  },
  {
   "cell_type": "code",
   "execution_count": 30,
   "metadata": {},
   "outputs": [],
   "source": [
    "import tensorflow as tf\n",
    "import numpy as np\n",
    "import matplotlib.pyplot as plt"
   ]
  },
  {
   "cell_type": "code",
   "execution_count": 31,
   "metadata": {},
   "outputs": [],
   "source": [
    "from zipfile import ZipFile\n",
    "with ZipFile('archive.zip') as zip:\n",
    "    zip.extractall()"
   ]
  },
  {
   "cell_type": "code",
   "execution_count": 32,
   "metadata": {},
   "outputs": [],
   "source": [
    "# tf.data.Dataset"
   ]
  },
  {
   "cell_type": "code",
   "execution_count": 33,
   "metadata": {},
   "outputs": [],
   "source": [
    "TRAIN_DATA = 'horse-or-human/train'"
   ]
  },
  {
   "cell_type": "markdown",
   "metadata": {},
   "source": [
    "Load Dataset using tensorflow"
   ]
  },
  {
   "cell_type": "code",
   "execution_count": 34,
   "metadata": {},
   "outputs": [
    {
     "name": "stdout",
     "output_type": "stream",
     "text": [
      "Found 1027 files belonging to 2 classes.\n"
     ]
    }
   ],
   "source": [
    "train_data = tf.keras.utils.image_dataset_from_directory(\n",
    "    TRAIN_DATA, # it must contain two(or more) sub directory that contains images for each class\n",
    "    image_size=(300,300), # size of image\n",
    "    batch_size= 128,\n",
    "    label_mode='binary'\n",
    ")"
   ]
  },
  {
   "cell_type": "code",
   "execution_count": 35,
   "metadata": {},
   "outputs": [],
   "source": [
    "VALIDATAION_DATA = 'horse-or-human/validation'"
   ]
  },
  {
   "cell_type": "code",
   "execution_count": 36,
   "metadata": {},
   "outputs": [],
   "source": [
    "recycle_layer = tf.keras.layers.Rescaling(scale= 1. / 255)\n",
    "train_data_scaled = train_data.map(lambda image,label:( recycle_layer(image),label))"
   ]
  },
  {
   "cell_type": "code",
   "execution_count": 37,
   "metadata": {},
   "outputs": [],
   "source": [
    "train_data_final = (train_data_scaled\n",
    "                    .cache()\n",
    "                    .shuffle(buffer_size=1000)\n",
    "                    .prefetch(buffer_size=tf.data.AUTOTUNE))"
   ]
  },
  {
   "cell_type": "code",
   "execution_count": 38,
   "metadata": {},
   "outputs": [
    {
     "name": "stdout",
     "output_type": "stream",
     "text": [
      "Found 256 files belonging to 2 classes.\n"
     ]
    }
   ],
   "source": [
    "validation_data = tf.keras.utils.image_dataset_from_directory(\n",
    "    VALIDATAION_DATA,\n",
    "    image_size=(300,300),\n",
    "    batch_size=128,\n",
    "    label_mode='binary'\n",
    ")"
   ]
  },
  {
   "cell_type": "code",
   "execution_count": 39,
   "metadata": {},
   "outputs": [],
   "source": [
    "recycle_layer = tf.keras.layers.Rescaling(scale=1./255)\n",
    "validation_data_rescale = validation_data.map(lambda image,label: (recycle_layer(image),label))"
   ]
  },
  {
   "cell_type": "code",
   "execution_count": 40,
   "metadata": {},
   "outputs": [],
   "source": [
    "validation_data_final = validation_data_rescale.cache().shuffle(buffer_size=1000).prefetch(buffer_size=tf.data.AUTOTUNE)"
   ]
  },
  {
   "cell_type": "code",
   "execution_count": 41,
   "metadata": {},
   "outputs": [],
   "source": [
    "model = tf.keras.Sequential([\n",
    "    tf.keras.layers.Input(shape=(300,300,3)),\n",
    "    # convolution layer(create a 3X3 matrix and multiply it with corresponding value in the image matrix)\n",
    "    tf.keras.layers.Conv2D(16, (3, 3), activation='relu'),\n",
    "    # max filtering (filter the maximum value from each 2X2 matrix and replace that matrix by that single value)\n",
    "    tf.keras.layers.MaxPooling2D(2, 2),\n",
    "    # repeat\n",
    "    tf.keras.layers.Conv2D(32, (3, 3), activation='relu'),\n",
    "    tf.keras.layers.MaxPool2D(2, 2),\n",
    "    tf.keras.layers.Conv2D(64, (3, 3), activation='relu'),\n",
    "    tf.keras.layers.MaxPool2D(2, 2),\n",
    "    # flatten the input into one dimensional\n",
    "    tf.keras.layers.Flatten(),\n",
    "    # create a hidden dense layer\n",
    "    tf.keras.layers.Dense(units=512, activation='relu'),\n",
    "    # output layer\n",
    "    tf.keras.layers.Dense(units=1, activation='sigmoid')\n",
    "])\n",
    "# compile model using adam optimizer and spatialcategoricalentropy as loss function and accuray as metrics\n",
    "model.compile(optimizer=tf.keras.optimizers.RMSprop(learning_rate=0.001), loss='binary_crossentropy',metrics=['accuracy'])"
   ]
  },
  {
   "cell_type": "code",
   "execution_count": 42,
   "metadata": {},
   "outputs": [
    {
     "name": "stdout",
     "output_type": "stream",
     "text": [
      "Model: \"sequential_1\"\n",
      "_________________________________________________________________\n",
      " Layer (type)                Output Shape              Param #   \n",
      "=================================================================\n",
      " conv2d_3 (Conv2D)           (None, 298, 298, 16)      448       \n",
      "                                                                 \n",
      " max_pooling2d_3 (MaxPooling  (None, 149, 149, 16)     0         \n",
      " 2D)                                                             \n",
      "                                                                 \n",
      " conv2d_4 (Conv2D)           (None, 147, 147, 32)      4640      \n",
      "                                                                 \n",
      " max_pooling2d_4 (MaxPooling  (None, 73, 73, 32)       0         \n",
      " 2D)                                                             \n",
      "                                                                 \n",
      " conv2d_5 (Conv2D)           (None, 71, 71, 64)        18496     \n",
      "                                                                 \n",
      " max_pooling2d_5 (MaxPooling  (None, 35, 35, 64)       0         \n",
      " 2D)                                                             \n",
      "                                                                 \n",
      " flatten_1 (Flatten)         (None, 78400)             0         \n",
      "                                                                 \n",
      " dense_2 (Dense)             (None, 512)               40141312  \n",
      "                                                                 \n",
      " dense_3 (Dense)             (None, 1)                 513       \n",
      "                                                                 \n",
      "=================================================================\n",
      "Total params: 40,165,409\n",
      "Trainable params: 40,165,409\n",
      "Non-trainable params: 0\n",
      "_________________________________________________________________\n"
     ]
    }
   ],
   "source": [
    "model.summary()"
   ]
  },
  {
   "cell_type": "code",
   "execution_count": 43,
   "metadata": {},
   "outputs": [],
   "source": [
    "class CustomCallback(tf.keras.callbacks.Callback):\n",
    "    def on_epoch_end(self, epoch, logs=None):\n",
    "        if logs['loss'] < 0.2 and logs['accuracy'] > 0.95:\n",
    "            self.model.stop_training = True"
   ]
  },
  {
   "cell_type": "code",
   "execution_count": 44,
   "metadata": {},
   "outputs": [
    {
     "name": "stdout",
     "output_type": "stream",
     "text": [
      "Epoch 1/15\n",
      "9/9 - 70s - loss: 4.3136 - accuracy: 0.4927 - val_loss: 0.6890 - val_accuracy: 0.5000 - 70s/epoch - 8s/step\n",
      "Epoch 2/15\n",
      "9/9 - 54s - loss: 0.6347 - accuracy: 0.6767 - val_loss: 0.8563 - val_accuracy: 0.5000 - 54s/epoch - 6s/step\n",
      "Epoch 3/15\n",
      "9/9 - 52s - loss: 0.5953 - accuracy: 0.7215 - val_loss: 0.9243 - val_accuracy: 0.5000 - 52s/epoch - 6s/step\n",
      "Epoch 4/15\n",
      "9/9 - 55s - loss: 0.5300 - accuracy: 0.7244 - val_loss: 0.5833 - val_accuracy: 0.6367 - 55s/epoch - 6s/step\n",
      "Epoch 5/15\n",
      "9/9 - 61s - loss: 0.3230 - accuracy: 0.8861 - val_loss: 0.4748 - val_accuracy: 0.6719 - 61s/epoch - 7s/step\n",
      "Epoch 6/15\n",
      "9/9 - 62s - loss: 0.4125 - accuracy: 0.8169 - val_loss: 0.3492 - val_accuracy: 0.8438 - 62s/epoch - 7s/step\n",
      "Epoch 7/15\n",
      "9/9 - 67s - loss: 0.2323 - accuracy: 0.9202 - val_loss: 1.3667 - val_accuracy: 0.6680 - 67s/epoch - 7s/step\n",
      "Epoch 8/15\n",
      "9/9 - 62s - loss: 0.2633 - accuracy: 0.8832 - val_loss: 0.8183 - val_accuracy: 0.7734 - 62s/epoch - 7s/step\n",
      "Epoch 9/15\n",
      "9/9 - 67s - loss: 0.1363 - accuracy: 0.9523 - val_loss: 0.8063 - val_accuracy: 0.7695 - 67s/epoch - 7s/step\n"
     ]
    }
   ],
   "source": [
    "history = model.fit(train_data_final,epochs=15,validation_data=validation_data_final,verbose=2,callbacks=[CustomCallback()])"
   ]
  },
  {
   "cell_type": "code",
   "execution_count": 60,
   "metadata": {},
   "outputs": [
    {
     "data": {
      "text/plain": [
       "[<matplotlib.lines.Line2D at 0x1c501fd17d0>]"
      ]
     },
     "execution_count": 60,
     "metadata": {},
     "output_type": "execute_result"
    },
    {
     "data": {
      "image/png": "[encoded data removed]",
      "text/plain": [
       "<Figure size 640x480 with 1 Axes>"
      ]
     },
     "metadata": {},
     "output_type": "display_data"
    }
   ],
   "source": [
    "acc = history.history['accuracy']\n",
    "plt.plot(range(len(acc)),acc)"
   ]
  },
  {
   "cell_type": "code",
   "execution_count": 62,
   "metadata": {},
   "outputs": [
    {
     "data": {
      "text/plain": [
       "'\\nfrom google.colab import files\\n\\nuploaded = files.upload()\\n\\nfor fn in uploaded.keys():\\n    path = \\'/content/\\' + fn\\n    img = tf.keras.preprocessing.image.load_img(path, target_size=(300,300))\\n    x = tf.keras.preprocessing.image.img_to_array(img)\\n    x = np.expand_dims(x,axis=0)\\n    images = np.vstack([x])\\n    classes = model.predict(images, batch_size=10)\\n    print(classes[0])\\n    if classes[0] > 0.5:\\n        print(fn + \" is a human\")\\n    else:\\n            print(fn+\\' is a horse\\')\\n'"
      ]
     },
     "execution_count": 62,
     "metadata": {},
     "output_type": "execute_result"
    }
   ],
   "source": [
    "'''\n",
    "from google.colab import files\n",
    "\n",
    "uploaded = files.upload()\n",
    "\n",
    "for fn in uploaded.keys():\n",
    "    path = '/content/' + fn\n",
    "    img = tf.keras.preprocessing.image.load_img(path, target_size=(300,300))\n",
    "    x = tf.keras.preprocessing.image.img_to_array(img)\n",
    "    x = np.expand_dims(x,axis=0)\n",
    "    images = np.vstack([x])\n",
    "    classes = model.predict(images, batch_size=10)\n",
    "    print(classes[0])\n",
    "    if classes[0] > 0.5:\n",
    "        print(fn + \" is a human\")\n",
    "    else:\n",
    "            print(fn+' is a horse')\n",
    "'''"
   ]
  }
 ],
 "metadata": {
  "kernelspec": {
   "display_name": "Python 3",
   "language": "python",
   "name": "python3"
  },
  "language_info": {
   "codemirror_mode": {
    "name": "ipython",
    "version": 3
   },
   "file_extension": ".py",
   "mimetype": "text/x-python",
   "name": "python",
   "nbconvert_exporter": "python",
   "pygments_lexer": "ipython3",
   "version": "3.11.3"
  }
 },
 "nbformat": 4,
 "nbformat_minor": 2
}
